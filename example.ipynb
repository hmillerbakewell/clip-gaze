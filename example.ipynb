{
 "cells": [
  {
   "cell_type": "markdown",
   "metadata": {},
   "source": [
    "# Example code for `clip_gaze`\n",
    "\n",
    "A notebook that demonstrates the `gaze` command."
   ]
  },
  {
   "cell_type": "markdown",
   "metadata": {},
   "source": [
    "First we import the `clip_gaze` library. This in turn imports the machine learning libraries that will run CLIP for us."
   ]
  },
  {
   "cell_type": "code",
   "execution_count": 1,
   "metadata": {},
   "outputs": [],
   "source": [
    "import clip_gaze"
   ]
  },
  {
   "cell_type": "markdown",
   "metadata": {},
   "source": [
    "## Preparing the image"
   ]
  },
  {
   "cell_type": "markdown",
   "metadata": {},
   "source": [
    "We use `pillow` (exposed to Python as PIL) in order to load and process images. `pillow` is not a listed dependency of the module, so you may need to install it with `pip`.\n",
    "\n",
    "`pprint`, short for \"pretty print\", just formats Python objects neatly."
   ]
  },
  {
   "cell_type": "code",
   "execution_count": 2,
   "metadata": {},
   "outputs": [],
   "source": [
    "import PIL\n",
    "import PIL.Image\n",
    "import pprint"
   ]
  },
  {
   "cell_type": "markdown",
   "metadata": {},
   "source": [
    "Having saved the 2,175 × 1,713 pixel version of [\"Brücke über die Marne bei Creteil\" by Cézanne](https://commons.wikimedia.org/wiki/File:Cezanne_bruecke-ueber-die-marne-bei-creteil.jpg) as \"cezanne.jpg\" we open and save it as `image`."
   ]
  },
  {
   "cell_type": "code",
   "execution_count": 3,
   "metadata": {},
   "outputs": [],
   "source": [
    "\n",
    "with open(\"cezanne.jpg\", \"rb\") as file:\n",
    "    image = PIL.Image.open(file)\n",
    "    image.load()"
   ]
  },
  {
   "cell_type": "markdown",
   "metadata": {},
   "source": [
    "## Running gaze"
   ]
  },
  {
   "cell_type": "code",
   "execution_count": 6,
   "metadata": {},
   "outputs": [
    {
     "name": "stdout",
     "output_type": "stream",
     "text": [
      "{'artist': ['by paul cézanne (82%)',\n",
      "            'by clyfford still (07%)',\n",
      "            'by arnold böcklin (04%)',\n",
      "            'by franz kline (01%)',\n",
      "            'by giorgio de chirico (01%)'],\n",
      " 'movement': ['tonalism movement (16%)',\n",
      "              'impressionism movement (09%)',\n",
      "              'american scene painting movement (09%)',\n",
      "              'modern european ink painting movement (09%)',\n",
      "              'post-impressionism movement (09%)'],\n",
      " 'surface': ['on canvas (86%)',\n",
      "             'on paperboard (11%)',\n",
      "             'on vellum (01%)',\n",
      "             'on wood (01%)',\n",
      "             'on card stock (00%)']}\n"
     ]
    }
   ],
   "source": [
    "pprint.pprint(\n",
    "    {\n",
    "        \"artist\": clip_gaze.gaze(image, clip_gaze.ARTISTS_BY_TRAINING_PREVALENCE[:200]),\n",
    "        \"surface\": clip_gaze.gaze(image, clip_gaze.SURFACES),\n",
    "        \"movement\": clip_gaze.gaze(image, clip_gaze.MOVEMENTS)\n",
    "    }\n",
    ")"
   ]
  },
  {
   "cell_type": "markdown",
   "metadata": {},
   "source": [
    "As you can see CLIP suggests that, of the options provided, the terms \"by paul cézanne\", \"tonalism movement\", and \"on canvas\" are the most likely to describe the input image."
   ]
  },
  {
   "cell_type": "markdown",
   "metadata": {},
   "source": [
    "## Adding more categories"
   ]
  },
  {
   "cell_type": "markdown",
   "metadata": {},
   "source": [
    "The categories are just handy lists of many options (see the code itself for the lists and their sources)."
   ]
  },
  {
   "cell_type": "code",
   "execution_count": 8,
   "metadata": {},
   "outputs": [],
   "source": [
    "all_categories = {\n",
    "    \"artist_by_name\": clip_gaze.ARTISTS_BY_NAME,\n",
    "    \"artist_by_prevalence\": clip_gaze.ARTISTS_BY_TRAINING_PREVALENCE,\n",
    "    \"movement\": clip_gaze.MOVEMENTS,\n",
    "    \"painting_materials\": clip_gaze.PAINTING_MATERIALS,\n",
    "    \"quality\": clip_gaze.QUALITIES,\n",
    "    \"sculpture_materials\": clip_gaze.SCULTPURE_MATERIALS,\n",
    "    \"site\": clip_gaze.SITES,\n",
    "    \"surface\": clip_gaze.SURFACES,\n",
    "    \"tool\": clip_gaze.TOOLS\n",
    "}"
   ]
  },
  {
   "cell_type": "code",
   "execution_count": 9,
   "metadata": {},
   "outputs": [
    {
     "name": "stdout",
     "output_type": "stream",
     "text": [
      "{'artist_by_name': ['andré derain (09%)',\n",
      "                    'maurice de vlaminck (07%)',\n",
      "                    'joachim patinir (05%)',\n",
      "                    'paul cezanne (04%)',\n",
      "                    'cézanne (04%)'],\n",
      " 'artist_by_prevalence': ['by paul cézanne (19%)',\n",
      "                          'by mikalojus konstantinas čiurlionis (12%)',\n",
      "                          'by monet (08%)',\n",
      "                          'by édouard manet (07%)',\n",
      "                          'by bob ross (04%)'],\n",
      " 'movement': ['tonalism movement (16%)',\n",
      "              'impressionism movement (09%)',\n",
      "              'american scene painting movement (09%)',\n",
      "              'modern european ink painting movement (09%)',\n",
      "              'post-impressionism movement (09%)'],\n",
      " 'painting_materials': ['gouache medium (25%)',\n",
      "                        'oil paint medium (14%)',\n",
      "                        'tempera medium (11%)',\n",
      "                        'glass paint medium (10%)',\n",
      "                        'acrylic paint medium (07%)'],\n",
      " 'quality': ['good quality (46%)',\n",
      "             'exceptional quality (20%)',\n",
      "             'excellent quality (19%)',\n",
      "             'poor quality (07%)',\n",
      "             'terrible quality (03%)'],\n",
      " 'sculpture_materials': ['sculpted from polychrome (20%)',\n",
      "                         'sculpted from glaze (19%)',\n",
      "                         'sculpted from adhesives (10%)',\n",
      "                         'sculpted from glass (05%)',\n",
      "                         'sculpted from wood (05%)'],\n",
      " 'site': ['opengameart (74%)',\n",
      "          'deviantart (09%)',\n",
      "          'behance (04%)',\n",
      "          'pixabay (03%)',\n",
      "          'pinterest (02%)'],\n",
      " 'surface': ['on canvas (86%)',\n",
      "             'on paperboard (11%)',\n",
      "             'on vellum (01%)',\n",
      "             'on wood (01%)',\n",
      "             'on card stock (00%)'],\n",
      " 'tool': ['using brush (43%)',\n",
      "          'using palette knife (27%)',\n",
      "          'using paint pad (06%)',\n",
      "          'using fresco (06%)',\n",
      "          'using mosaic (05%)']}\n"
     ]
    }
   ],
   "source": [
    "pprint.pprint({\n",
    "    category: clip_gaze.gaze(image, all_categories[category]) for category in all_categories\n",
    "})  # see below\n"
   ]
  },
  {
   "cell_type": "markdown",
   "metadata": {},
   "source": [
    "Since the outputs of so many categories is more than Jupyter displays by default, here is the full list."
   ]
  },
  {
   "cell_type": "markdown",
   "metadata": {},
   "source": [
    "```python\n",
    "{'artist_by_name': ['andré derain (09%)',\n",
    "                    'maurice de vlaminck (07%)',\n",
    "                    'joachim patinir (05%)',\n",
    "                    'paul cezanne (04%)',\n",
    "                    'cézanne (04%)'],\n",
    " 'artist_by_prevalence': ['by paul cézanne (19%)',\n",
    "                          'by mikalojus konstantinas čiurlionis (12%)',\n",
    "                          'by monet (08%)',\n",
    "                          'by édouard manet (07%)',\n",
    "                          'by bob ross (04%)'],\n",
    " 'movement': ['tonalism movement (16%)',\n",
    "              'impressionism movement (09%)',\n",
    "              'american scene painting movement (09%)',\n",
    "              'modern european ink painting movement (09%)',\n",
    "              'post-impressionism movement (09%)'],\n",
    " 'painting_materials': ['gouache medium (25%)',\n",
    "                        'oil paint medium (14%)',\n",
    "                        'tempera medium (11%)',\n",
    "                        'glass paint medium (10%)',\n",
    "                        'acrylic paint medium (07%)'],\n",
    " 'quality': ['good quality (46%)',\n",
    "             'exceptional quality (20%)',\n",
    "             'excellent quality (19%)',\n",
    "             'poor quality (07%)',\n",
    "             'terrible quality (03%)'],\n",
    " 'sculpture_materials': ['sculpted from polychrome (20%)',\n",
    "                         'sculpted from glaze (19%)',\n",
    "                         'sculpted from adhesives (10%)',\n",
    "                         'sculpted from glass (05%)',\n",
    "                         'sculpted from wood (05%)'],\n",
    " 'site': ['opengameart (74%)',\n",
    "          'deviantart (09%)',\n",
    "          'behance (04%)',\n",
    "          'pixabay (03%)',\n",
    "          'pinterest (02%)'],\n",
    " 'surface': ['on canvas (86%)',\n",
    "             'on paperboard (11%)',\n",
    "             'on vellum (01%)',\n",
    "             'on wood (01%)',\n",
    "             'on card stock (00%)'],\n",
    " 'tool': ['using brush (43%)',\n",
    "          'using palette knife (27%)',\n",
    "          'using paint pad (06%)',\n",
    "          'using fresco (06%)',\n",
    "          'using mosaic (05%)']}\n",
    "```"
   ]
  },
  {
   "cell_type": "markdown",
   "metadata": {},
   "source": [
    "Many of these prompts aren't appropriate for our input image; CLIP is simply trying to find the best options from the list provided, even if none of the options are actually very apt."
   ]
  },
  {
   "cell_type": "markdown",
   "metadata": {},
   "source": [
    "## Probability analysis"
   ]
  },
  {
   "cell_type": "markdown",
   "metadata": {},
   "source": [
    "Why has the probability of it being by Cézanne gone down? Because this tool shows *relative* probabilities.\n",
    "\n",
    "Of the first 200 artists (`clip_gaze.ARTISTS_BY_TRAINING_PREVALENCE[0:200]`, ordered by prevalence in the dataset) the tool ascribed Cézanne 82% and the other 199 artists *shared* the final 18%.\n",
    "\n",
    "Of the first 500 or so artists (`clip_gaze.ARTISTS_BY_TRAINING_PREVALENCE`, ordered by prevalence in the dataset) the tool ascribed Cézanne 19% and the other 500 or so artists shared the final 81%.\n",
    "\n",
    "When given 6000 artists (`clip_gaze.ARTISTS_BY_NAME`) it ascribed Cézanne only 4% and even gives its first choice (Derain) 9%. Although it had both `cézanne` and `paul cézanne` as options we should treat those as individual options (i.e. \"by *a* Cézanne, but we don't know which\" and \"by Paul Cézanne in particular\").\n",
    "\n",
    "The probability is not the confidence that the art was by that artist. \n",
    "\n",
    "The probability is **the confidence that the prompt is the correct one out of the prompts provided**."
   ]
  }
 ],
 "metadata": {
  "kernelspec": {
   "display_name": "Python 3.8.10 ('.venv': venv)",
   "language": "python",
   "name": "python3"
  },
  "language_info": {
   "codemirror_mode": {
    "name": "ipython",
    "version": 3
   },
   "file_extension": ".py",
   "mimetype": "text/x-python",
   "name": "python",
   "nbconvert_exporter": "python",
   "pygments_lexer": "ipython3",
   "version": "3.8.10"
  },
  "orig_nbformat": 4,
  "vscode": {
   "interpreter": {
    "hash": "a2189557e5a0d2687c1b58730aec2a4c9a4e790c1dcbbb525db9615c46c9a8e3"
   }
  }
 },
 "nbformat": 4,
 "nbformat_minor": 2
}
